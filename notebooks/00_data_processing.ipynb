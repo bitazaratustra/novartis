{
 "cells": [
  {
   "cell_type": "markdown",
   "id": "2c361ced-e6f0-4ba0-b62a-8f0b8a369a9d",
   "metadata": {
    "jp-MarkdownHeadingCollapsed": true,
    "tags": []
   },
   "source": [
    "### Librerias"
   ]
  },
  {
   "cell_type": "code",
   "execution_count": null,
   "id": "226db130-0c02-4200-9a7b-a503df2bba70",
   "metadata": {},
   "outputs": [],
   "source": [
    "import pandas as pd"
   ]
  },
  {
   "cell_type": "markdown",
   "id": "206a3572-a4f0-4465-84fa-67c88d78eace",
   "metadata": {
    "jp-MarkdownHeadingCollapsed": true,
    "tags": []
   },
   "source": [
    "### Carga de datos\n",
    "\n",
    "Cargo los datos y realizo una concatenación para unificar los datasets."
   ]
  },
  {
   "cell_type": "code",
   "execution_count": 3,
   "id": "20f5c64b-84d8-4306-b68c-61fec1af5f8f",
   "metadata": {},
   "outputs": [],
   "source": [
    "df_feats = pd.read_csv('../data/raw/feats.csv')\n",
    "df_target = pd.read_csv('../data/raw/target.csv')\n",
    "df = pd.concat([df_feats, df_target], axis=1)"
   ]
  },
  {
   "cell_type": "markdown",
   "id": "2ede0cd9-4db3-4519-8971-e1abe00c4b91",
   "metadata": {
    "jp-MarkdownHeadingCollapsed": true,
    "tags": []
   },
   "source": [
    "### Mapeo y target\n",
    "\n",
    "Mapeo los códigos de consumo de nicotina (CL0–CL6) a etiquetas legibles para facilitar la interpretación.\n",
    "Además, creo una nueva variable binaria llamada 'target' con el objetivo de realizar una clasificación tipo \"year-based\":\n",
    "1 si la persona dejó de fumar hace más de un año (CL1 o CL2), y 0 en caso contrario (consumo más reciente o nunca consumió)."
   ]
  },
  {
   "cell_type": "code",
   "execution_count": 4,
   "id": "65346fb6-74f4-4bd4-88e8-5faff8c41f79",
   "metadata": {},
   "outputs": [],
   "source": [
    "nicotine_map = {\n",
    "    \"CL6\": \"Last Day\",\n",
    "    \"CL5\": \"Last Week\",\n",
    "    \"CL4\": \"Last Month\",\n",
    "    \"CL3\": \"Last Year\",\n",
    "    \"CL2\": \"Last Decade\",\n",
    "    \"CL1\": \"Over a Decade Ago\",\n",
    "    \"CL0\": \"Never Used\"\n",
    "}\n",
    "\n",
    "df['nicotine_label'] = df['nicotine'].map(nicotine_map)\n",
    "df['target'] = df['nicotine'].apply(lambda x: 1 if x in ['CL1', 'CL2'] else 0)"
   ]
  },
  {
   "cell_type": "markdown",
   "id": "be63f7e7-d4ec-429c-ba8d-0a205c4e0efa",
   "metadata": {
    "jp-MarkdownHeadingCollapsed": true,
    "tags": []
   },
   "source": [
    "### Transformación de variables ordinales\n",
    "\n",
    "Transformo las variables ordinales de tipo categórico (CL0–CL6) a escala numérica del 0 al 6.\n",
    "Aplico el mapeo a todas las columnas relacionadas con el consumo desustancias que existen en el DataFrame."
   ]
  },
  {
   "cell_type": "code",
   "execution_count": null,
   "id": "b718d92d-ea3e-4b4e-a50b-3264714df49c",
   "metadata": {},
   "outputs": [],
   "source": [
    "ordinal_map = {\n",
    "        \"CL0\": 0, \"CL1\": 1, \"CL2\": 2,\n",
    "        \"CL3\": 3, \"CL4\": 4, \"CL5\": 5, \"CL6\": 6\n",
    "        }\n",
    "\n",
    "ordinal_cols = [\n",
    "        'alcohol', 'amphet', 'amyl', 'benzos', 'caff', 'cannabis', 'choc',\n",
    "        'coke', 'crack', 'ecstasy', 'heroin', 'ketamine', 'legalh', 'lsd',\n",
    "        'meth', 'mushrooms', 'nicotine', 'semer', 'vsa'\n",
    "        ]\n",
    "\n",
    "\n",
    "for col in ordinal_cols:\n",
    "    if col in df.columns:\n",
    "        df[col] = df[col].map(ordinal_map)"
   ]
  },
  {
   "cell_type": "markdown",
   "id": "2b2ff4a3-e41e-42e3-bf4b-5db699f24811",
   "metadata": {
    "jp-MarkdownHeadingCollapsed": true,
    "tags": []
   },
   "source": [
    "### Renombro la columna \"impuslive\" a \"impulsive\""
   ]
  },
  {
   "cell_type": "code",
   "execution_count": 9,
   "id": "235f09a1-4e75-4508-901b-444c240c1bcf",
   "metadata": {},
   "outputs": [],
   "source": [
    "df = df.rename(columns={'impuslive': 'impulsive'})"
   ]
  },
  {
   "cell_type": "markdown",
   "id": "45b9dfe4-8d1a-4977-9233-1ee1c951d101",
   "metadata": {
    "jp-MarkdownHeadingCollapsed": true,
    "tags": []
   },
   "source": [
    "### Dataset final\n",
    "\n",
    "Guardo el dataset final en el directorio '/data/processed/'"
   ]
  },
  {
   "cell_type": "code",
   "execution_count": 10,
   "id": "026d8d6a-bf53-4b28-a775-20c21f706d41",
   "metadata": {},
   "outputs": [],
   "source": [
    "df.to_csv('../data/processed/final_dataset.csv', index=False)"
   ]
  }
 ],
 "metadata": {
  "kernelspec": {
   "display_name": "Python 3 (ipykernel)",
   "language": "python",
   "name": "python3"
  },
  "language_info": {
   "codemirror_mode": {
    "name": "ipython",
    "version": 3
   },
   "file_extension": ".py",
   "mimetype": "text/x-python",
   "name": "python",
   "nbconvert_exporter": "python",
   "pygments_lexer": "ipython3",
   "version": "3.10.6"
  }
 },
 "nbformat": 4,
 "nbformat_minor": 5
}
