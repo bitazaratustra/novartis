{
 "cells": [
  {
   "cell_type": "code",
   "execution_count": null,
   "id": "12363d74-fd16-45af-a842-b71b8fad3a20",
   "metadata": {},
   "outputs": [],
   "source": []
  },
  {
   "cell_type": "code",
   "execution_count": null,
   "id": "2251671b-da21-4a85-a173-fa5adb11841b",
   "metadata": {},
   "outputs": [],
   "source": [
    "from sklearn.metrics import roc_auc_score"
   ]
  },
  {
   "cell_type": "code",
   "execution_count": null,
   "id": "05c7b0c6-d86c-4812-8a6b-59351b7eec3b",
   "metadata": {},
   "outputs": [],
   "source": [
    "from sklearn.metrics import classification_report, roc_auc_score\n",
    "\n",
    "# LightGBM\n",
    "preds_lgb = final_lgb.predict(X_test)\n",
    "probs_lgb = final_lgb.predict_proba(X_test)[:, 1]\n",
    "print(\"LightGBM\")\n",
    "print(classification_report(y_test, preds_lgb))\n",
    "print(\"ROC AUC:\", roc_auc_score(y_test, probs_lgb))\n",
    "\n",
    "# XGBoost\n",
    "preds_xgb = final_xgb.predict(X_test)\n",
    "probs_xgb = final_xgb.predict_proba(X_test)[:, 1]\n",
    "print(\"\\nXGBoost\")\n",
    "print(classification_report(y_test, preds_xgb))\n",
    "print(\"ROC AUC:\", roc_auc_score(y_test, probs_xgb))\n"
   ]
  },
  {
   "cell_type": "code",
   "execution_count": null,
   "id": "6c133206-1f89-4bf5-98f4-81cecd0c59ae",
   "metadata": {},
   "outputs": [],
   "source": []
  },
  {
   "cell_type": "code",
   "execution_count": null,
   "id": "17f4dae9-a2d3-4282-b7c6-3dc57ef701f6",
   "metadata": {},
   "outputs": [],
   "source": []
  }
 ],
 "metadata": {
  "kernelspec": {
   "display_name": "Python 3 (ipykernel)",
   "language": "python",
   "name": "python3"
  },
  "language_info": {
   "codemirror_mode": {
    "name": "ipython",
    "version": 3
   },
   "file_extension": ".py",
   "mimetype": "text/x-python",
   "name": "python",
   "nbconvert_exporter": "python",
   "pygments_lexer": "ipython3",
   "version": "3.10.6"
  }
 },
 "nbformat": 4,
 "nbformat_minor": 5
}
